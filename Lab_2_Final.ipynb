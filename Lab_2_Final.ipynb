{
 "cells": [
  {
   "cell_type": "markdown",
   "id": "5d941810",
   "metadata": {},
   "source": [
    "### Welcome to Lab 2. In this lab you will:\n",
    "* Calculate when the next primary and secondary eclipses are for beta Lyrae\n",
    "* Log in to the observing portal at LCO and pull down old observations of beta Lyrae\n",
    "* Examine what is wrong with old observations, and use those to guide your own observation of beta lyrae\n",
    "* Submit a test observation of beta Lyrae\n",
    "\n",
    "#### It is important that you watch the pre lab video about LCO's observation portal. If you have not done so, please watch it now.\n",
    "\n",
    "The purpose of this lab is to be able to answer the following questions for your own targets of interest (TOIs)\n",
    "* What filters should I use?\n",
    "* How much time should I observe the target in each filter?\n",
    "* How many observations will I take of my source? Will I manually space observations or use an image sequence to fill entire time slots with as many observations as possible.\n"
   ]
  },
  {
   "cell_type": "markdown",
   "id": "5ea73645",
   "metadata": {},
   "source": [
    "Part 1: Choose a driver to perform this part of the lab. Remember you will all work together, then periodically switch drivers -- whereby the next driver will git pull the repository and continue where you last left off."
   ]
  },
  {
   "cell_type": "markdown",
   "id": "babbd0d1",
   "metadata": {},
   "source": [
    "In class, we found that the Nth eclipse of beta lyrae occurs at a very predictable time. N is some integer, 0,1,2... etc. In the formula, we had E instead of N. But E is used for special purposes in python, so we are changing to N. \n",
    "\n",
    "In fact, we are going to use E in the formula in the python way. 1E-1 is 10^-1, 1E-2 is 10^-2 etc..\n",
    "\n",
    "The formula was:"
   ]
  },
  {
   "cell_type": "code",
   "execution_count": 9,
   "id": "496572f8",
   "metadata": {},
   "outputs": [
    {
     "name": "stdout",
     "output_type": "stream",
     "text": [
      "12.9137838720344\n",
      "notice that the gap between eclipses is just equal to the period.\n",
      "BEcause eclipse_time returns a Time \"object\", I can access different attributes of that object to convert the time. For instance:\n",
      "(1916, 10, 29, 2, 49, 51.74399525)\n",
      "So the 1000th eclipse (using this formula) occurs in 1916, in the tenth month, on the 29th day at the second hour.\n"
     ]
    }
   ],
   "source": [
    "from astropy.time import Time\n",
    "def eclipse_time(N):\n",
    "    return Time(2408247.966 + 12.913780 * N + (N**2) * 3.87196E-6, format='jd')\n",
    "\n",
    "print(eclipse_time(1) - eclipse_time(0))\n",
    "print('notice that the gap between eclipses is just equal to the period.')\n",
    "\n",
    "print('BEcause eclipse_time returns a Time \"object\", I can access different attributes of that object to convert the time. For instance:')\n",
    "print(eclipse_time(1000).ymdhms)\n",
    "print('So the 1000th eclipse (using this formula) occurs in 1916, in the tenth month, on the 29th day at the second hour.')"
   ]
  },
  {
   "cell_type": "markdown",
   "id": "82b5b19b",
   "metadata": {},
   "source": [
    "Problem 1:"
   ]
  },
  {
   "cell_type": "markdown",
   "id": "6c592353",
   "metadata": {},
   "source": [
    "1. In the following cell, find the calendar date and hour of the day when the next primary eclipse will occur. E.g., \"the next eclipse will occur on 06/30 at 5 PM Universal Time (UT)\". Read about https://docs.astropy.org/en/stable/time/index.html astropy.time.Time in order to easily convert to calendar date. Do not use the .ymdhms attribute, there is a much better one for calendar dates!\n",
    "\n",
    "2. Go to here: https://lco.global/observatory/sites/ and find the timezone for McDonald Observatory (e.g. UTC - X, X some integer). When will this next eclipse occur in this timezone? Will it be night-time there during that eclipse?"
   ]
  },
  {
   "cell_type": "code",
   "execution_count": null,
   "id": "93652134",
   "metadata": {},
   "outputs": [],
   "source": []
  },
  {
   "cell_type": "markdown",
   "id": "b9519af5",
   "metadata": {},
   "source": [
    "End of Problem"
   ]
  },
  {
   "cell_type": "markdown",
   "id": "e42c4c1e",
   "metadata": {},
   "source": [
    "![<caption>](https://www.aavso.org/sites/default/files/images/terrellfig2.gif)\n",
    "*Beta Lyrae lightcurve as a function of phase in the binary orbit. Phase 0 to 1 takes approximately 12.9 days, the orbital period.*"
   ]
  },
  {
   "cell_type": "markdown",
   "id": "c41ac418",
   "metadata": {},
   "source": [
    "Problem 2"
   ]
  },
  {
   "cell_type": "markdown",
   "id": "4576fee0",
   "metadata": {},
   "source": [
    "Above is a light curve of beta Lyrae. \n",
    "\n",
    "\n",
    "3. How different in hours is the secondary eclipse from the primary eclipse? I.e. what is the time difference between the very bottom of the secondary eclipse and the very bottom of the primary eclipse. Give it in days, not in phase.\n",
    "\n",
    "3. Repeat 1 and 2 but for the secondary eclipse."
   ]
  },
  {
   "cell_type": "markdown",
   "id": "c78bd24c",
   "metadata": {},
   "source": [
    "Need to mention something about the defocus parameter. It is kind of a shot in the dark, and the telescope might not refocus properly. But it is worth a shot. Defocusing by 0.3 mm or so might \n",
    "Use the S/N calculator on CO Cep, see what time you should observe to get a S/N of 50. Then look at the bad observation. Then look at the 80 second exposure. Basically the S/N calculator is not that precise. As with everything in astronomy, things in practice turn out to be much more difficult.\n",
    "Download the two observations of CO Cep and explain which one is preferable and why."
   ]
  },
  {
   "cell_type": "markdown",
   "id": "c232db09",
   "metadata": {},
   "source": [
    "The students will notice that for a 2 second observation, the total time allocation from their telescope time is 2 minutes or so. Why is this? Read the \"Observation overheads\" section from https://lco.global/observatory/process/guidelines/ , along with this different reference about a different telescope (called James Webb Space Telescope; JWST) https://jwst-docs.stsci.edu/jwst-observatory-functionality/jwst-observing-overheads-and-time-accounting-overview/slew-times-and-overheads#SlewTimesandOverheads-Initialslew . Explain why there is about a minute and a half of overhead on top of your observation.\n",
    "\n"
   ]
  },
  {
   "cell_type": "markdown",
   "id": "d381de3c",
   "metadata": {},
   "source": [
    "Does each exposure incur the same penalty? Or if you do a \"image sequence\" can you get in, say 30 exposures, with only one slew and settle overhead?"
   ]
  }
 ],
 "metadata": {
  "kernelspec": {
   "display_name": "Python 3",
   "language": "python",
   "name": "python3"
  },
  "language_info": {
   "codemirror_mode": {
    "name": "ipython",
    "version": 3
   },
   "file_extension": ".py",
   "mimetype": "text/x-python",
   "name": "python",
   "nbconvert_exporter": "python",
   "pygments_lexer": "ipython3",
   "version": "3.8.5"
  }
 },
 "nbformat": 4,
 "nbformat_minor": 5
}
