{
 "cells": [
  {
   "cell_type": "markdown",
   "id": "07f38c0b",
   "metadata": {},
   "source": [
    "## Lab 1 part 2\n",
    "Congratulations on successfully forking the lab and pulling it down. Now we can begin to do science. \n",
    "\n",
    "In this lab you will:\n",
    "* Become familar with numpy arrays and indexing.\n",
    "* Play with a real astronomical image.\n",
    "* Extract data from that image, called the flux.\n",
    "\n",
    "\n",
    "(Double click on this cell until the text changes. This language is called Markdown.)\n",
    "\n",
    "### This lab is meant to be completed one cell at a time. You can evaluate each cell by pressing shift+enter. This contains a mix of cells that are instructional, and cells where I want you and your group members to collaborate on finding a solution. Problems will be indicated like this:"
   ]
  },
  {
   "cell_type": "markdown",
   "id": "1699ca62",
   "metadata": {},
   "source": [
    "### Problem N:"
   ]
  },
  {
   "cell_type": "code",
   "execution_count": 17,
   "id": "0435737b",
   "metadata": {},
   "outputs": [],
   "source": [
    "# Some description of the problem. Insert your solution in this cell or between the cell above and below"
   ]
  },
  {
   "cell_type": "markdown",
   "id": "53b77f83",
   "metadata": {},
   "source": [
    "End of problem N"
   ]
  },
  {
   "cell_type": "markdown",
   "id": "7914e734",
   "metadata": {},
   "source": [
    "### Numpy arrays and importing in Python"
   ]
  },
  {
   "cell_type": "code",
   "execution_count": 4,
   "id": "eed9fa28",
   "metadata": {},
   "outputs": [
    {
     "ename": "NameError",
     "evalue": "name 'numpy' is not defined",
     "output_type": "error",
     "traceback": [
      "\u001b[0;31m---------------------------------------------------------------------------\u001b[0m",
      "\u001b[0;31mNameError\u001b[0m                                 Traceback (most recent call last)",
      "\u001b[0;32m<ipython-input-4-275748e11e5e>\u001b[0m in \u001b[0;36m<module>\u001b[0;34m\u001b[0m\n\u001b[1;32m      5\u001b[0m \u001b[0;31m# https://numpy.org/doc/stable/reference/generated/numpy.arange.html\u001b[0m\u001b[0;34m\u001b[0m\u001b[0;34m\u001b[0m\u001b[0;34m\u001b[0m\u001b[0m\n\u001b[1;32m      6\u001b[0m \u001b[0;34m\u001b[0m\u001b[0m\n\u001b[0;32m----> 7\u001b[0;31m \u001b[0mnumpy\u001b[0m\u001b[0;34m.\u001b[0m\u001b[0marange\u001b[0m\u001b[0;34m(\u001b[0m\u001b[0;36m5\u001b[0m\u001b[0;34m)\u001b[0m\u001b[0;34m\u001b[0m\u001b[0;34m\u001b[0m\u001b[0m\n\u001b[0m",
      "\u001b[0;31mNameError\u001b[0m: name 'numpy' is not defined"
     ]
    }
   ],
   "source": [
    "# We need to use numpy. In particular, things called arrays. \n",
    "# That is what numpy specializes in.\n",
    "# Also, in python, anything preceded by a # is a comment. \n",
    "# Let us try to load in numpy, in particular, the arange function:\n",
    "# https://numpy.org/doc/stable/reference/generated/numpy.arange.html\n",
    "\n",
    "numpy.arange(5)"
   ]
  },
  {
   "cell_type": "markdown",
   "id": "50bf9062",
   "metadata": {},
   "source": [
    "### Problem 1:"
   ]
  },
  {
   "cell_type": "code",
   "execution_count": null,
   "id": "d33c2f65",
   "metadata": {},
   "outputs": [],
   "source": [
    "# Why didn't the above cell work? Discuss and put your best (1 sentence) guess below (change the \n",
    "# cell type to Markdown):"
   ]
  },
  {
   "cell_type": "code",
   "execution_count": null,
   "id": "d75de3c5",
   "metadata": {},
   "outputs": [],
   "source": []
  },
  {
   "cell_type": "markdown",
   "id": "ed30e007",
   "metadata": {},
   "source": [
    "End of problem 1."
   ]
  },
  {
   "cell_type": "code",
   "execution_count": null,
   "id": "1ba56eb9",
   "metadata": {},
   "outputs": [],
   "source": [
    "# Now lets do something that works:\n",
    "import numpy\n",
    "# this imports the numpy module, meaning now you can use it.\n",
    "# Everything we use in python has to first be \"imported\" before we can use it."
   ]
  },
  {
   "cell_type": "code",
   "execution_count": 6,
   "id": "4c814769",
   "metadata": {},
   "outputs": [
    {
     "name": "stdout",
     "output_type": "stream",
     "text": [
      "[0 1 2 3 4]\n"
     ]
    }
   ],
   "source": [
    "print(numpy.arange(5))"
   ]
  },
  {
   "cell_type": "code",
   "execution_count": 7,
   "id": "f0c9a445",
   "metadata": {},
   "outputs": [
    {
     "name": "stdout",
     "output_type": "stream",
     "text": [
      "[5 6 7 8 9]\n"
     ]
    }
   ],
   "source": [
    "# Yay! It worked. Arange creates an array of numbers up \n",
    "# to (but excluding) the number you choose.\n",
    "# for instance, lets say I want an array from 5 to 9:\n",
    "print(numpy.arange(5, 10))"
   ]
  },
  {
   "cell_type": "code",
   "execution_count": 10,
   "id": "09bdeafd",
   "metadata": {},
   "outputs": [
    {
     "data": {
      "text/plain": [
       "array([5, 6, 7, 8, 9])"
      ]
     },
     "execution_count": 10,
     "metadata": {},
     "output_type": "execute_result"
    }
   ],
   "source": [
    "# But I get tired of writing \"numpy\", so lets shorten things:\n",
    "import numpy as np\n",
    "# the \"as\" statement will import the entire package, but with a nickname. Any nickname works.\n",
    "np.arange(5, 10)"
   ]
  },
  {
   "cell_type": "code",
   "execution_count": 11,
   "id": "a554983f",
   "metadata": {},
   "outputs": [
    {
     "data": {
      "text/plain": [
       "array([5, 6, 7, 8, 9])"
      ]
     },
     "execution_count": 11,
     "metadata": {},
     "output_type": "execute_result"
    }
   ],
   "source": [
    "import numpy as somenickname\n",
    "somenickname.arange(5, 10)"
   ]
  },
  {
   "cell_type": "code",
   "execution_count": 15,
   "id": "a3df2a58",
   "metadata": {},
   "outputs": [
    {
     "data": {
      "text/plain": [
       "0"
      ]
     },
     "execution_count": 15,
     "metadata": {},
     "output_type": "execute_result"
    }
   ],
   "source": [
    "# numpy has a rich amount of functionality. For instance, lets generate a random number that is either 0 or 1:\n",
    "np.random.randint(0, 2)"
   ]
  },
  {
   "cell_type": "markdown",
   "id": "6bb5c05f",
   "metadata": {},
   "source": [
    "### Problem 2:"
   ]
  },
  {
   "cell_type": "code",
   "execution_count": null,
   "id": "da51677e",
   "metadata": {},
   "outputs": [],
   "source": []
  },
  {
   "cell_type": "markdown",
   "id": "4763b33c",
   "metadata": {},
   "source": [
    "End of problem 2"
   ]
  },
  {
   "cell_type": "code",
   "execution_count": null,
   "id": "700d4e77",
   "metadata": {},
   "outputs": [],
   "source": []
  }
 ],
 "metadata": {
  "kernelspec": {
   "display_name": "Python 3",
   "language": "python",
   "name": "python3"
  },
  "language_info": {
   "codemirror_mode": {
    "name": "ipython",
    "version": 3
   },
   "file_extension": ".py",
   "mimetype": "text/x-python",
   "name": "python",
   "nbconvert_exporter": "python",
   "pygments_lexer": "ipython3",
   "version": "3.8.5"
  }
 },
 "nbformat": 4,
 "nbformat_minor": 5
}
