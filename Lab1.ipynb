{
 "cells": [
  {
   "cell_type": "markdown",
   "id": "f2176a0d",
   "metadata": {},
   "source": [
    "## Lab 1 part 2\n",
    "Congratulations on successfully forking the lab and pulling it down. Now we can begin to do science. \n",
    "\n",
    "In this lab you will:\n",
    "* Become familar with numpy arrays and indexing.\n",
    "* Play with a real astronomical image.\n",
    "* Extract data from that image, called the flux.\n",
    "\n",
    "\n",
    "(Double click on this cell until the text changes. This language is called Markdown.)"
   ]
  },
  {
   "cell_type": "code",
   "execution_count": null,
   "id": "f44e57d5",
   "metadata": {},
   "outputs": [],
   "source": []
  }
 ],
 "metadata": {
  "kernelspec": {
   "display_name": "Python 3",
   "language": "python",
   "name": "python3"
  },
  "language_info": {
   "codemirror_mode": {
    "name": "ipython",
    "version": 3
   },
   "file_extension": ".py",
   "mimetype": "text/x-python",
   "name": "python",
   "nbconvert_exporter": "python",
   "pygments_lexer": "ipython3",
   "version": "3.8.5"
  }
 },
 "nbformat": 4,
 "nbformat_minor": 5
}
