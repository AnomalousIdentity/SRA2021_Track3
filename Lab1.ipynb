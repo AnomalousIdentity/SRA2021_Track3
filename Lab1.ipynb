{
 "cells": [
  {
   "cell_type": "markdown",
   "id": "07f38c0b",
   "metadata": {},
   "source": [
    "## Lab 1 part 2\n",
    "Congratulations on successfully forking the lab and pulling it down. Now we can begin to do science. \n",
    "\n",
    "In this lab you will:\n",
    "* Become familar with numpy arrays and indexing. (this will likely be a refresher)\n",
    "* Play with a real astronomical image.\n",
    "* Extract data from that image, called the flux.\n",
    "\n",
    "This content is contained in what is called a Jupyter \"cell\".\n",
    "(Double click on this cell until the text changes. This language is called Markdown.)\n",
    "\n",
    "### This lab is meant to be completed one cell at a time. You can evaluate each cell by pressing shift+enter. This contains a mix of cells that are instructional, and cells where I want you and your group members to collaborate on finding a solution. Problems will be indicated like this:"
   ]
  },
  {
   "cell_type": "markdown",
   "id": "1699ca62",
   "metadata": {},
   "source": [
    "### Problem N:"
   ]
  },
  {
   "cell_type": "code",
   "execution_count": 1,
   "id": "0435737b",
   "metadata": {},
   "outputs": [],
   "source": [
    "# Some description of the problem. Insert your solution in this cell or between the cell above and below"
   ]
  },
  {
   "cell_type": "markdown",
   "id": "53b77f83",
   "metadata": {},
   "source": [
    "End of problem N"
   ]
  },
  {
   "cell_type": "markdown",
   "id": "7914e734",
   "metadata": {},
   "source": [
    "### Refreshers: Numpy arrays and importing in Python"
   ]
  },
  {
   "cell_type": "code",
   "execution_count": 2,
   "id": "eed9fa28",
   "metadata": {},
   "outputs": [
    {
     "ename": "NameError",
     "evalue": "name 'numpy' is not defined",
     "output_type": "error",
     "traceback": [
      "\u001b[0;31m---------------------------------------------------------------------------\u001b[0m",
      "\u001b[0;31mNameError\u001b[0m                                 Traceback (most recent call last)",
      "\u001b[0;32m<ipython-input-2-275748e11e5e>\u001b[0m in \u001b[0;36m<module>\u001b[0;34m\u001b[0m\n\u001b[1;32m      5\u001b[0m \u001b[0;31m# https://numpy.org/doc/stable/reference/generated/numpy.arange.html\u001b[0m\u001b[0;34m\u001b[0m\u001b[0;34m\u001b[0m\u001b[0;34m\u001b[0m\u001b[0m\n\u001b[1;32m      6\u001b[0m \u001b[0;34m\u001b[0m\u001b[0m\n\u001b[0;32m----> 7\u001b[0;31m \u001b[0mnumpy\u001b[0m\u001b[0;34m.\u001b[0m\u001b[0marange\u001b[0m\u001b[0;34m(\u001b[0m\u001b[0;36m5\u001b[0m\u001b[0;34m)\u001b[0m\u001b[0;34m\u001b[0m\u001b[0;34m\u001b[0m\u001b[0m\n\u001b[0m",
      "\u001b[0;31mNameError\u001b[0m: name 'numpy' is not defined"
     ]
    }
   ],
   "source": [
    "# We need to use numpy. In particular, things called arrays. \n",
    "# That is what numpy specializes in.\n",
    "# Also, in python, anything preceded by a # is a comment. \n",
    "# Let us try to load in numpy, in particular, the arange function:\n",
    "# https://numpy.org/doc/stable/reference/generated/numpy.arange.html\n",
    "\n",
    "numpy.arange(5)"
   ]
  },
  {
   "cell_type": "markdown",
   "id": "50bf9062",
   "metadata": {},
   "source": [
    "### Problem 1:"
   ]
  },
  {
   "cell_type": "markdown",
   "id": "c0b96611",
   "metadata": {},
   "source": [
    "Why didn't the above cell work? Discuss and put your best (1 sentence) guess below (change the set cell type to Markdown):"
   ]
  },
  {
   "cell_type": "code",
   "execution_count": 28,
   "id": "57555c0a",
   "metadata": {},
   "outputs": [],
   "source": [
    "# REMOVE\n",
    "#This did not work because the jupyter notebook does not yet know what\n",
    "# numpy means."
   ]
  },
  {
   "cell_type": "markdown",
   "id": "ed30e007",
   "metadata": {},
   "source": [
    "End of problem 1."
   ]
  },
  {
   "cell_type": "code",
   "execution_count": 4,
   "id": "1ba56eb9",
   "metadata": {},
   "outputs": [],
   "source": [
    "# Now lets do something that works:\n",
    "import numpy\n",
    "# this imports the numpy module, meaning now you can use it.\n",
    "# Everything we use in python has to first be \"imported\" before we can use it."
   ]
  },
  {
   "cell_type": "code",
   "execution_count": 5,
   "id": "4c814769",
   "metadata": {},
   "outputs": [
    {
     "name": "stdout",
     "output_type": "stream",
     "text": [
      "[0 1 2 3 4]\n"
     ]
    }
   ],
   "source": [
    "print(numpy.arange(5))\n"
   ]
  },
  {
   "cell_type": "code",
   "execution_count": 11,
   "id": "4ce4d280",
   "metadata": {},
   "outputs": [
    {
     "name": "stdout",
     "output_type": "stream",
     "text": [
      "print can be useful for debugging code. But \"pdb\" is better for that, as we will later discuss.\n"
     ]
    }
   ],
   "source": [
    "# also notice print(). Print() will print the output to console of any items you place within\n",
    "# the parenthesis().\n",
    "print('print can be useful for debugging code. But \"pdb\" is better for that, as we will later discuss.')"
   ]
  },
  {
   "cell_type": "code",
   "execution_count": 6,
   "id": "f0c9a445",
   "metadata": {},
   "outputs": [
    {
     "name": "stdout",
     "output_type": "stream",
     "text": [
      "[5 6 7 8 9]\n"
     ]
    }
   ],
   "source": [
    "# Yay! It worked. Arange creates an array of numbers up \n",
    "# to (but excluding) the number you choose.\n",
    "# for instance, lets say I want an array from 5 to 9:\n",
    "print(numpy.arange(5, 10))"
   ]
  },
  {
   "cell_type": "code",
   "execution_count": 12,
   "id": "83f753c5",
   "metadata": {},
   "outputs": [
    {
     "name": "stdout",
     "output_type": "stream",
     "text": [
      "[5 6 7 8 9]\n",
      "[5, 6, 7, 8, 9]\n"
     ]
    }
   ],
   "source": [
    "# Note that when I say array, I mean a very specific thing that is\n",
    "# an array. \n",
    "# In more detail, we can see this by assigning these things to variables.\n",
    "an_array = numpy.arange(5, 10)\n",
    "a_list = [5, 6, 7, 8, 9]\n",
    "\n",
    "print(an_array)\n",
    "print(a_list)"
   ]
  },
  {
   "cell_type": "code",
   "execution_count": 20,
   "id": "0be4d58e",
   "metadata": {},
   "outputs": [
    {
     "name": "stdout",
     "output_type": "stream",
     "text": [
      "<class 'numpy.ndarray'>\n",
      "so this ^^ is an numpy.ndarray, or array for short.\n",
      "<class 'list'>\n",
      "while this ^^ is a python List\n",
      "P.S. type() just prints the type of whatever is in the parenthesis\n",
      "So in some mystical world, I might do type(duck) and get back:\n",
      "type(duck) = <class `bird`>\n"
     ]
    }
   ],
   "source": [
    "# the array and list look almost identical, but they are two different\n",
    "# python things:\n",
    "print(type(an_array))\n",
    "print('so this ^^ is an numpy.ndarray, or array for short.')\n",
    "print(type(a_list))\n",
    "print('while this ^^ is a python List')\n",
    "print('P.S. type() just prints the type of whatever is in the parenthesis')\n",
    "print('So in some mystical world, I might do type(duck) and get back:')\n",
    "print('type(duck) = <class `bird`>')"
   ]
  },
  {
   "cell_type": "code",
   "execution_count": 21,
   "id": "09bdeafd",
   "metadata": {},
   "outputs": [
    {
     "data": {
      "text/plain": [
       "array([5, 6, 7, 8, 9])"
      ]
     },
     "execution_count": 21,
     "metadata": {},
     "output_type": "execute_result"
    }
   ],
   "source": [
    "# Lets get back to numpy and imports though.\n",
    "# I get tired of writing \"numpy\", so lets shorten things:\n",
    "import numpy as np\n",
    "# the \"as\" statement will import the entire package, but with a nickname. Any nickname works.\n",
    "np.arange(5, 10)\n",
    "# also notice that in jupyter, it will always display the output of the last line in a cell"
   ]
  },
  {
   "cell_type": "code",
   "execution_count": 8,
   "id": "a554983f",
   "metadata": {},
   "outputs": [
    {
     "data": {
      "text/plain": [
       "array([5, 6, 7, 8, 9])"
      ]
     },
     "execution_count": 8,
     "metadata": {},
     "output_type": "execute_result"
    }
   ],
   "source": [
    "import numpy as somenickname\n",
    "somenickname.arange(5, 10)"
   ]
  },
  {
   "cell_type": "code",
   "execution_count": 22,
   "id": "a3df2a58",
   "metadata": {},
   "outputs": [
    {
     "data": {
      "text/plain": [
       "1"
      ]
     },
     "execution_count": 22,
     "metadata": {},
     "output_type": "execute_result"
    }
   ],
   "source": [
    "# numpy has a rich amount of functionality. For instance, lets generate a random number that is either 0 or 1:\n",
    "np.random.randint(0, 2)"
   ]
  },
  {
   "cell_type": "markdown",
   "id": "6bb5c05f",
   "metadata": {},
   "source": [
    "### Problem 2:"
   ]
  },
  {
   "cell_type": "markdown",
   "id": "4d93261e",
   "metadata": {},
   "source": [
    "read the documentation for numpy randint.\n",
    "https://numpy.org/doc/stable/reference/random/generated/numpy.random.randint.html\n",
    "create (in the cell below cell) code that gives me an array \n",
    "with random numbers between 4 and 6 (so either 4 or 5), and is length 5.\n",
    "so something like [4, 5, 4, 4, 5]\n",
    "Note that all the numbers might end up being 4 or 5. It is random after all !\n",
    "\n",
    "Hint: look for size and shape."
   ]
  },
  {
   "cell_type": "code",
   "execution_count": 34,
   "id": "4b27cb8c",
   "metadata": {},
   "outputs": [
    {
     "data": {
      "text/plain": [
       "array([4, 5, 5, 5, 4])"
      ]
     },
     "execution_count": 34,
     "metadata": {},
     "output_type": "execute_result"
    }
   ],
   "source": [
    "# REMOVE\n",
    "np.random.randint(low=4, high=6, size=5)"
   ]
  },
  {
   "cell_type": "markdown",
   "id": "4763b33c",
   "metadata": {},
   "source": [
    "End of problem 2"
   ]
  },
  {
   "cell_type": "code",
   "execution_count": 36,
   "id": "700d4e77",
   "metadata": {},
   "outputs": [
    {
     "name": "stdout",
     "output_type": "stream",
     "text": [
      "[10 11 12 13 14]\n",
      "[15 16 17 18 19]\n"
     ]
    }
   ],
   "source": [
    "# you can also do what is called \"slicing\" to numpy array objects.\n",
    "# You cannot slice a list type object. \n",
    "# Slicing will give you a portion of a numpy array. \n",
    "# For example:\n",
    "a = np.arange(10, 20) # make an array of 0,1,...,9\n",
    "slice_first_five = a[0:5]\n",
    "slice_element_five_thru_9 = a[5:10]\n",
    "print(slice_first_five)\n",
    "print(slice_element_five_thru_9)\n",
    "# Note that I used a[5:10] to get elements 5 through 9. That is because the last locator of the slice (10) is\n",
    "# exclusive. Meaning I will get up through element 10 - 1 = 9.\n",
    "# Also that in python, everything is indexed from zero. So element 0 is the first element of the list and so forth.\n"
   ]
  },
  {
   "cell_type": "code",
   "execution_count": 51,
   "id": "85d2277a",
   "metadata": {},
   "outputs": [
    {
     "name": "stdout",
     "output_type": "stream",
     "text": [
      "[[1. 1. 1. 1.]\n",
      " [1. 1. 1. 1.]\n",
      " [1. 1. 1. 1.]\n",
      " [1. 1. 1. 1.]]\n"
     ]
    }
   ],
   "source": [
    "# And we can do all of this in two dimensions (and more).\n",
    "# lets make a 2d numpy array:\n",
    "my_2d_array = np.ones((4, 4))\n",
    "print(my_2d_array)"
   ]
  },
  {
   "cell_type": "code",
   "execution_count": 52,
   "id": "7442cc98",
   "metadata": {},
   "outputs": [
    {
     "name": "stdout",
     "output_type": "stream",
     "text": [
      "[[ 0.  1.  2.  3.]\n",
      " [ 0.  2.  4.  6.]\n",
      " [ 0.  3.  6.  9.]\n",
      " [ 0.  4.  8. 12.]]\n"
     ]
    }
   ],
   "source": [
    "# For later reference, this cell is named: slicing cell 1.\n",
    "# and we can slice it.\n",
    "# I am going to do a couple fancy things just to make the matrix more identifiable for you.\n",
    "my_2d_array *= np.arange(4)*np.arange(1, 5).reshape(-1, 1)\n",
    "print(my_2d_array)"
   ]
  },
  {
   "cell_type": "code",
   "execution_count": 58,
   "id": "5ba9ecb7",
   "metadata": {},
   "outputs": [
    {
     "name": "stdout",
     "output_type": "stream",
     "text": [
      "[0. 1. 2. 3.]\n",
      "[0. 2. 4. 6.]\n"
     ]
    }
   ],
   "source": [
    "# For later reference, this cell is named: slicing cell 2.\n",
    "# first lets get the rows (what is called the first axis, or zeroth axis)\n",
    "print(my_2d_array[0])\n",
    "print(my_2d_array[1])"
   ]
  },
  {
   "cell_type": "code",
   "execution_count": 60,
   "id": "76170d0a",
   "metadata": {},
   "outputs": [
    {
     "name": "stdout",
     "output_type": "stream",
     "text": [
      "[1. 2. 3. 4.]\n",
      "[2. 4. 6. 8.]\n"
     ]
    }
   ],
   "source": [
    "# For later reference, this cell is named: slicing cell 3\n",
    "# Now lets slice along the columns\n",
    "# first lets get the rows (what is called the first axis, or zeroth axis)\n",
    "print(my_2d_array[:, 1])\n",
    "print(my_2d_array[:, 2])"
   ]
  },
  {
   "cell_type": "markdown",
   "id": "71a33952",
   "metadata": {},
   "source": [
    "### Problem 3:"
   ]
  },
  {
   "cell_type": "code",
   "execution_count": 61,
   "id": "b9714f45",
   "metadata": {},
   "outputs": [],
   "source": [
    "# problem 3.1\n",
    "# In slicing cell 1, I did:\n",
    "# my_2d_array *= some stuff\n",
    "# what is *= equivalent to? Google it and write the answer in the cell below.\n",
    "\n",
    "# problem 3.2\n",
    "# Run the cell with *= again. Just pressing shift enter in it. what happened to the array? Is this what\n",
    "# you expected?\n",
    "\n",
    "# problem 3.3:\n",
    "# In slicing cell 3, what rows are my_2d_array[:, 1] and my_2d_array[:, 2] ? What does \":\" tell python to do?\n",
    "# What happens if I type my_2d_array[0, 1]? What is that?\n",
    "#"
   ]
  },
  {
   "cell_type": "markdown",
   "id": "5c22a924",
   "metadata": {},
   "source": [
    "3.1:\n",
    "\n",
    "3.2:\n",
    "\n",
    "3.3:  "
   ]
  },
  {
   "cell_type": "markdown",
   "id": "9f00ac0a",
   "metadata": {},
   "source": [
    "End of problem 3"
   ]
  },
  {
   "cell_type": "markdown",
   "id": "d6ba5c6d",
   "metadata": {},
   "source": [
    "## End of refreshers: Getting portions of an image."
   ]
  },
  {
   "cell_type": "code",
   "execution_count": null,
   "id": "7856ff27",
   "metadata": {},
   "outputs": [],
   "source": []
  },
  {
   "cell_type": "markdown",
   "id": "40d99d88",
   "metadata": {},
   "source": [
    "### Problem 4:"
   ]
  },
  {
   "cell_type": "code",
   "execution_count": 1,
   "id": "05486b5e",
   "metadata": {},
   "outputs": [],
   "source": [
    "# Some description of the problem. Insert your solution in this cell or between the cell above and below"
   ]
  },
  {
   "cell_type": "markdown",
   "id": "8d1db6db",
   "metadata": {},
   "source": [
    "End of problem 4"
   ]
  },
  {
   "cell_type": "code",
   "execution_count": null,
   "id": "629934d4",
   "metadata": {},
   "outputs": [],
   "source": [
    "# paste here the image of the field.\n",
    "# see if you can align the image to the other (problem 2) using np.rotate. Get as close as you can but only\n",
    "# using 90 degree rotations and flips. (np.rotate, np.flip etc). Can you reproduce the exact image with just those? \n",
    "# If not, why do you think you cannot.\n",
    "# load in the SA 112 field. Have the students identify 822 and 805. \n",
    "# then extract flux around that region\n"
   ]
  },
  {
   "cell_type": "code",
   "execution_count": null,
   "id": "e6fc7fad",
   "metadata": {},
   "outputs": [],
   "source": [
    "from IPython.display import Image\n",
    "Image(\"img/picture.png\")"
   ]
  },
  {
   "cell_type": "code",
   "execution_count": null,
   "id": "eb6f1edf",
   "metadata": {},
   "outputs": [],
   "source": [
    "from astropy.io import fits\n",
    "\n"
   ]
  }
 ],
 "metadata": {
  "kernelspec": {
   "display_name": "Python 3",
   "language": "python",
   "name": "python3"
  },
  "language_info": {
   "codemirror_mode": {
    "name": "ipython",
    "version": 3
   },
   "file_extension": ".py",
   "mimetype": "text/x-python",
   "name": "python",
   "nbconvert_exporter": "python",
   "pygments_lexer": "ipython3",
   "version": "3.8.5"
  }
 },
 "nbformat": 4,
 "nbformat_minor": 5
}
